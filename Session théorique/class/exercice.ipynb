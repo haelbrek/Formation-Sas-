{
 "cells": [
  {
   "cell_type": "markdown",
   "metadata": {},
   "source": [
    "Selon les mythes de la création des religions abrahamiques, Adam et Eve ont été les premiers humains à errer sur la Terre.\n",
    "\n",
    "Vous devez faire le travail de Dieu. La méthode de création doit renvoyer un tableau de longueur 2 contenant des objets (représentant Adam et Eve). Le premier objet du tableau doit être une instance de la classe Man. La seconde devrait être une instance de la classe Woman. Les deux objets doivent être des sous-classes de Human. Votre travail consiste à mettre en œuvre les classes Humain, Homme et Femme."
   ]
  },
  {
   "cell_type": "code",
   "execution_count": 10,
   "metadata": {},
   "outputs": [],
   "source": [
    "def God():\n",
    "    return [Man(), Woman()]\n",
    "\n",
    "class Human(object):\n",
    "    pass\n",
    "\n",
    "class Man(Human):\n",
    "    pass\n",
    "    \n",
    "class Woman(Human):\n",
    "    pass\n"
   ]
  },
  {
   "cell_type": "code",
   "execution_count": 12,
   "metadata": {},
   "outputs": [
    {
     "data": {
      "text/plain": [
       "<__main__.Man at 0x7fce9b7908b0>"
      ]
     },
     "execution_count": 12,
     "metadata": {},
     "output_type": "execute_result"
    }
   ],
   "source": [
    "paradise= God()\n",
    "paradise[0]"
   ]
  },
  {
   "cell_type": "code",
   "execution_count": null,
   "metadata": {},
   "outputs": [],
   "source": [
    "class CompteBancaire:\n",
    "    def __init__(Self,numeroCompte,nom,solde):\n",
    "        self.numeroCompte=numeroCompte\n",
    "        self.nom=nom\n",
    "        self.solde=solde\n",
    "        \n",
    "    def Versement (self,argent):\n",
    "        self.solde+=argent\n",
    "    def Retrait (self, debut,seuil):\n",
    "        if CompteBancaire.solde-seuil <0 :\n",
    "            print('le retrait ca peut pas ce faire')\n",
    "        else :\n",
    "            self.slode-=debut\n",
    "    def Agios () : \n",
    "        "
   ]
  },
  {
   "cell_type": "code",
   "execution_count": null,
   "metadata": {},
   "outputs": [],
   "source": []
  }
 ],
 "metadata": {
  "kernelspec": {
   "display_name": "Python 3.8.10 64-bit",
   "language": "python",
   "name": "python3"
  },
  "language_info": {
   "codemirror_mode": {
    "name": "ipython",
    "version": 3
   },
   "file_extension": ".py",
   "mimetype": "text/x-python",
   "name": "python",
   "nbconvert_exporter": "python",
   "pygments_lexer": "ipython3",
   "version": "3.8.10"
  },
  "orig_nbformat": 4,
  "vscode": {
   "interpreter": {
    "hash": "916dbcbb3f70747c44a77c7bcd40155683ae19c65e1c03b4aa3499c5328201f1"
   }
  }
 },
 "nbformat": 4,
 "nbformat_minor": 2
}
